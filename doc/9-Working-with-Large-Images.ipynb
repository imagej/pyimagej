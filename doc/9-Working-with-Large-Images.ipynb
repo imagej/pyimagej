{
 "cells": [
  {
   "cell_type": "markdown",
   "metadata": {},
   "source": [
    "**PyImageJ Tutorial**\n",
    "\n",
    "This notebook covers how to use ImageJ as a library from Python. A major advantage of this approach is the ability to combine ImageJ with other tools available from the Python software ecosystem, including NumPy, SciPy, scikit-image, CellProfiler, OpenCV, ITK and more.\n",
    "\n",
    "This notebook assumes familiarity with the ImageJ API. Detailed tutorials in that regard can be found in the other notebooks."
   ]
  },
  {
   "cell_type": "markdown",
   "metadata": {},
   "source": [
    "# 9 Visualizing large images\n",
    "\n",
    "Before we begin: how much memory is Java using right now?"
   ]
  },
  {
   "cell_type": "code",
   "execution_count": 1,
   "metadata": {},
   "outputs": [
    {
     "name": "stdout",
     "output_type": "stream",
     "text": [
      "ImageJ2 version: 2.5.0/1.53r\n"
     ]
    }
   ],
   "source": [
    "import imagej\n",
    "\n",
    "ij = imagej.init(mode='interactive')\n",
    "print(f\"ImageJ2 version: {ij.getVersion()}\")"
   ]
  },
  {
   "cell_type": "code",
   "execution_count": 2,
   "metadata": {},
   "outputs": [
    {
     "data": {
      "text/plain": [
       "'35.11549377441406 of 7072 MB (0%)'"
      ]
     },
     "execution_count": 2,
     "metadata": {},
     "output_type": "execute_result"
    }
   ],
   "source": [
    "from scyjava import jimport\n",
    "Runtime = jimport('java.lang.Runtime')\n",
    "def java_mem():\n",
    "    rt = Runtime.getRuntime()\n",
    "    mem_max = rt.maxMemory()\n",
    "    mem_used = rt.totalMemory() - rt.freeMemory()\n",
    "    return '{} of {} MB ({}%)'.format(int(mem_used)/2**20, int(mem_max/2**20), int(100*mem_used/mem_max))\n",
    "\n",
    "java_mem()"
   ]
  },
  {
   "cell_type": "markdown",
   "metadata": {},
   "source": [
    "Now let's open an obnoxiously huge synthetic dataset:"
   ]
  },
  {
   "cell_type": "code",
   "execution_count": 3,
   "metadata": {},
   "outputs": [],
   "source": [
    "big_data = ij.scifio().datasetIO().open('lotsofplanes&lengths=512,512,16,1000,10000&axes=X,Y,Channel,Z,Time.fake')"
   ]
  },
  {
   "cell_type": "markdown",
   "metadata": {},
   "source": [
    "How many total samples does this image have?"
   ]
  },
  {
   "cell_type": "code",
   "execution_count": 4,
   "metadata": {},
   "outputs": [
    {
     "data": {
      "text/plain": [
       "'38.14697265625 terapixels'"
      ]
     },
     "execution_count": 4,
     "metadata": {},
     "output_type": "execute_result"
    }
   ],
   "source": [
    "import numpy as np\n",
    "\n",
    "dims = [big_data.dimension(d) for d in range(big_data.numDimensions())]\n",
    "pix = np.prod(dims)\n",
    "str(pix/2**40) + \" terapixels\""
   ]
  },
  {
   "cell_type": "markdown",
   "metadata": {},
   "source": [
    "And how much did memory usage in Java increase?"
   ]
  },
  {
   "cell_type": "code",
   "execution_count": 5,
   "metadata": {},
   "outputs": [
    {
     "data": {
      "text/plain": [
       "'834.6827545166016 of 7072 MB (11%)'"
      ]
     },
     "execution_count": 5,
     "metadata": {},
     "output_type": "execute_result"
    }
   ],
   "source": [
    "java_mem()"
   ]
  },
  {
   "cell_type": "markdown",
   "metadata": {},
   "source": [
    "Let's visualize this beast. First, we define a function for slicing out a single plane:"
   ]
  },
  {
   "cell_type": "code",
   "execution_count": 6,
   "metadata": {},
   "outputs": [
    {
     "data": {
      "image/png": "[encoded data removed]",
      "text/plain": [
       "<Figure size 432x288 with 1 Axes>"
      ]
     },
     "metadata": {
      "needs_background": "light"
     },
     "output_type": "display_data"
    }
   ],
   "source": [
    "def plane(image, pos):\n",
    "    while image.numDimensions() > 2:\n",
    "        image = ij.op().transform().hyperSliceView(image, image.numDimensions() - 1, pos[-1])\n",
    "        pos.pop()\n",
    "    return ij.py.from_java(ij.py.to_img(image))\n",
    "\n",
    "ij.py.show(plane(big_data, [0, 0, 0]))"
   ]
  },
  {
   "cell_type": "markdown",
   "metadata": {},
   "source": [
    "But we can do better. Let's provide some interaction. First, a function to extract the _non-planar_ axes as a dict:"
   ]
  },
  {
   "cell_type": "code",
   "execution_count": 7,
   "metadata": {},
   "outputs": [
    {
     "data": {
      "text/plain": [
       "{'Channel': 16, 'Z': 1000, 'Time': 10000}"
      ]
     },
     "execution_count": 7,
     "metadata": {},
     "output_type": "execute_result"
    }
   ],
   "source": [
    "def axes(dataset):\n",
    "    axes = {}\n",
    "    for d in range(2, dataset.numDimensions()):\n",
    "        axis = dataset.axis(d)\n",
    "        label = axis.type().getLabel()\n",
    "        length = dataset.dimension(d)\n",
    "        axes[label] = length\n",
    "    return axes\n",
    "\n",
    "axes(big_data)"
   ]
  },
  {
   "cell_type": "code",
   "execution_count": 8,
   "metadata": {},
   "outputs": [
    {
     "data": {
      "text/plain": [
       "{'Channel': IntSlider(value=0, description='Channel', max=15),\n",
       " 'Z': IntSlider(value=0, description='Z', max=999),\n",
       " 'Time': IntSlider(value=0, description='Time', max=9999)}"
      ]
     },
     "execution_count": 8,
     "metadata": {},
     "output_type": "execute_result"
    }
   ],
   "source": [
    "import matplotlib\n",
    "import ipywidgets\n",
    "\n",
    "widgets = {}\n",
    "for label, length in axes(big_data).items():\n",
    "    label = str(label) # HINT: Convert Java string to a python string to use with ipywidgets.\n",
    "    widgets[label] = ipywidgets.IntSlider(description=label, max=length-1)\n",
    "\n",
    "widgets"
   ]
  },
  {
   "cell_type": "code",
   "execution_count": 9,
   "metadata": {},
   "outputs": [
    {
     "data": {
      "application/vnd.jupyter.widget-view+json": {
       "model_id": "ad67f2cff07b43f6b053ce25e6fa3ddf",
       "version_major": 2,
       "version_minor": 0
      },
      "text/plain": [
       "interactive(children=(IntSlider(value=0, description='Channel', max=15), IntSlider(value=0, description='Z', m…"
      ]
     },
     "metadata": {},
     "output_type": "display_data"
    },
    {
     "data": {
      "text/plain": [
       "<function __main__.f(**kwargs)>"
      ]
     },
     "execution_count": 9,
     "metadata": {},
     "output_type": "execute_result"
    }
   ],
   "source": [
    "def f(**kwargs):\n",
    "    matplotlib.pyplot.imshow(plane(big_data, list(kwargs.values())), cmap='gray')\n",
    "ipywidgets.interact(f, **widgets)"
   ]
  }
 ],
 "metadata": {
  "kernelspec": {
   "display_name": "Python 3 (ipykernel)",
   "language": "python",
   "name": "python3"
  },
  "language_info": {
   "codemirror_mode": {
    "name": "ipython",
    "version": 3
   },
   "file_extension": ".py",
   "mimetype": "text/x-python",
   "name": "python",
   "nbconvert_exporter": "python",
   "pygments_lexer": "ipython3",
   "version": "3.8.13"
  },
  "toc": {
   "base_numbering": 1,
   "nav_menu": {},
   "number_sections": true,
   "sideBar": true,
   "skip_h1_title": true,
   "title_cell": "Table of Contents",
   "title_sidebar": "Contents",
   "toc_cell": false,
   "toc_position": {
    "height": "calc(100% - 180px)",
    "left": "10px",
    "top": "150px",
    "width": "307px"
   },
   "toc_section_display": true,
   "toc_window_display": true
  },
  "vscode": {
   "interpreter": {
    "hash": "ffb7cfab4b775ee54ab00d6ea209daa40cc054b7bb58fbad3b74bb1492b78b3c"
   }
  },
  "widgets": {
   "application/vnd.jupyter.widget-state+json": {
    "state": {
     "1dec3b8820b34bd790735ed952c0c658": {
      "model_module": "@jupyter-widgets/base",
      "model_module_version": "1.2.0",
      "model_name": "LayoutModel",
      "state": {}
     },
     "200b03f600c74cf49764ee39fd0a0da8": {
      "model_module": "@jupyter-widgets/output",
      "model_module_version": "1.0.0",
      "model_name": "OutputModel",
      "state": {
       "layout": "IPY_MODEL_fda8a1a1cac446438dba24d0faa98ab6",
       "outputs": [
        {
         "data": {
          "image/png": "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\n",
          "text/plain": "<Figure size 432x288 with 1 Axes>"
         },
         "metadata": {
          "needs_background": "light"
         },
         "output_type": "display_data"
        }
       ]
      }
     },
     "3124a8aa9ff346a4a84d8020bfef8a7a": {
      "model_module": "@jupyter-widgets/controls",
      "model_module_version": "1.5.0",
      "model_name": "SliderStyleModel",
      "state": {
       "description_width": ""
      }
     },
     "615430f9806b44c6a82972895795264a": {
      "model_module": "@jupyter-widgets/base",
      "model_module_version": "1.2.0",
      "model_name": "LayoutModel",
      "state": {}
     },
     "7db047f654a145ad8a0b2444c507a892": {
      "model_module": "@jupyter-widgets/controls",
      "model_module_version": "1.5.0",
      "model_name": "IntSliderModel",
      "state": {
       "description": "Time",
       "layout": "IPY_MODEL_615430f9806b44c6a82972895795264a",
       "max": 9999,
       "style": "IPY_MODEL_ad5290fccca14cb3ae1ae61a0cb5e68c"
      }
     },
     "a99d3ca6ec93403fb110dd093f9db5ab": {
      "model_module": "@jupyter-widgets/base",
      "model_module_version": "1.2.0",
      "model_name": "LayoutModel",
      "state": {}
     },
     "ad5290fccca14cb3ae1ae61a0cb5e68c": {
      "model_module": "@jupyter-widgets/controls",
      "model_module_version": "1.5.0",
      "model_name": "SliderStyleModel",
      "state": {
       "description_width": ""
      }
     },
     "ad67f2cff07b43f6b053ce25e6fa3ddf": {
      "model_module": "@jupyter-widgets/controls",
      "model_module_version": "1.5.0",
      "model_name": "VBoxModel",
      "state": {
       "_dom_classes": [
        "widget-interact"
       ],
       "children": [
        "IPY_MODEL_cad6af7114d4499ea5015a973576090e",
        "IPY_MODEL_b84a9ba9d2574484be8c1d2f02b49935",
        "IPY_MODEL_7db047f654a145ad8a0b2444c507a892",
        "IPY_MODEL_200b03f600c74cf49764ee39fd0a0da8"
       ],
       "layout": "IPY_MODEL_cab2dfd6739543908d65981efe7814bd"
      }
     },
     "b84a9ba9d2574484be8c1d2f02b49935": {
      "model_module": "@jupyter-widgets/controls",
      "model_module_version": "1.5.0",
      "model_name": "IntSliderModel",
      "state": {
       "description": "Z",
       "layout": "IPY_MODEL_1dec3b8820b34bd790735ed952c0c658",
       "max": 999,
       "style": "IPY_MODEL_c7b4b822270c4b62b0fe2a61512d2caa"
      }
     },
     "c7b4b822270c4b62b0fe2a61512d2caa": {
      "model_module": "@jupyter-widgets/controls",
      "model_module_version": "1.5.0",
      "model_name": "SliderStyleModel",
      "state": {
       "description_width": ""
      }
     },
     "cab2dfd6739543908d65981efe7814bd": {
      "model_module": "@jupyter-widgets/base",
      "model_module_version": "1.2.0",
      "model_name": "LayoutModel",
      "state": {}
     },
     "cad6af7114d4499ea5015a973576090e": {
      "model_module": "@jupyter-widgets/controls",
      "model_module_version": "1.5.0",
      "model_name": "IntSliderModel",
      "state": {
       "description": "Channel",
       "layout": "IPY_MODEL_a99d3ca6ec93403fb110dd093f9db5ab",
       "max": 15,
       "style": "IPY_MODEL_3124a8aa9ff346a4a84d8020bfef8a7a"
      }
     },
     "fda8a1a1cac446438dba24d0faa98ab6": {
      "model_module": "@jupyter-widgets/base",
      "model_module_version": "1.2.0",
      "model_name": "LayoutModel",
      "state": {}
     }
    },
    "version_major": 2,
    "version_minor": 0
   }
  }
 },
 "nbformat": 4,
 "nbformat_minor": 4
}
